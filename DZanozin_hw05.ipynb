{
 "cells": [
  {
   "cell_type": "code",
   "execution_count": 1,
   "metadata": {
    "deletable": false,
    "editable": false
   },
   "outputs": [],
   "source": [
    "import otter\n",
    "grader = otter.Notebook()"
   ]
  },
  {
   "cell_type": "markdown",
   "metadata": {},
   "source": [
    "# Homework 5: Applying Functions and Iteration"
   ]
  },
  {
   "cell_type": "markdown",
   "metadata": {},
   "source": [
    "Please complete this notebook by filling in the cells provided. Before you begin, execute the following cell to load the provided tests. Each time you start your server, you will need to execute this cell again to load the tests.\n",
    "\n",
    "**Throughout this homework and all future ones, please be sure to not re-assign variables throughout the notebook! For example, if you use `max_temperature` in your answer to one question, do not reassign it later on. Moreover, please be sure to only put your written answers in the provided cells.**"
   ]
  },
  {
   "cell_type": "code",
   "execution_count": 2,
   "metadata": {},
   "outputs": [],
   "source": [
    "# Don't change this cell; just run it. \n",
    "\n",
    "import numpy as np\n",
    "from datascience import *\n",
    "\n",
    "# These lines do some fancy plotting magic.\n",
    "import matplotlib\n",
    "%matplotlib inline\n",
    "import matplotlib.pyplot as plt\n",
    "plt.style.use('fivethirtyeight')\n",
    "import warnings\n",
    "warnings.simplefilter('ignore', FutureWarning)\n",
    "\n",
    "import otter\n",
    "grader = otter.Notebook()\n"
   ]
  },
  {
   "cell_type": "markdown",
   "metadata": {},
   "source": [
    "## 1. 22-23 SBCC Women's Basketball Season\n"
   ]
  },
  {
   "cell_type": "markdown",
   "metadata": {},
   "source": [
    "Let's take a look at how well the SBCC Women's Basketball team performed in the 22-23 season. A basketball game is divided into four periods, called quarters. The number of points SBCC scored in each quarter, and the number of points their opponent scored in each quarter are stored in a table called `sbcc_bb.csv`."
   ]
  },
  {
   "cell_type": "code",
   "execution_count": 3,
   "metadata": {
    "deletable": false,
    "editable": false
   },
   "outputs": [
    {
     "data": {
      "text/html": [
       "<table border=\"1\" class=\"dataframe\">\n",
       "    <thead>\n",
       "        <tr>\n",
       "            <th>Opponent</th> <th>SBCC 1Q</th> <th>SBCC 2Q</th> <th>SBCC 3Q</th> <th>SBCC 4Q</th> <th>Opp 1Q</th> <th>Opp 2Q</th> <th>Opp 3Q</th> <th>Opp 4Q</th>\n",
       "        </tr>\n",
       "    </thead>\n",
       "    <tbody>\n",
       "        <tr>\n",
       "            <td>LA Harbor         </td> <td>12     </td> <td>16     </td> <td>18     </td> <td>10     </td> <td>9     </td> <td>6     </td> <td>11    </td> <td>18    </td>\n",
       "        </tr>\n",
       "        <tr>\n",
       "            <td>Santa Ana         </td> <td>18     </td> <td>9      </td> <td>17     </td> <td>17     </td> <td>10    </td> <td>6     </td> <td>14    </td> <td>19    </td>\n",
       "        </tr>\n",
       "        <tr>\n",
       "            <td>Riverside         </td> <td>12     </td> <td>14     </td> <td>14     </td> <td>17     </td> <td>30    </td> <td>11    </td> <td>19    </td> <td>16    </td>\n",
       "        </tr>\n",
       "        <tr>\n",
       "            <td>Bakersfield       </td> <td>12     </td> <td>24     </td> <td>14     </td> <td>17     </td> <td>11    </td> <td>17    </td> <td>4     </td> <td>17    </td>\n",
       "        </tr>\n",
       "        <tr>\n",
       "            <td>Solano            </td> <td>16     </td> <td>11     </td> <td>16     </td> <td>15     </td> <td>11    </td> <td>15    </td> <td>22    </td> <td>22    </td>\n",
       "        </tr>\n",
       "        <tr>\n",
       "            <td>Antelope Valley   </td> <td>15     </td> <td>22     </td> <td>20     </td> <td>11     </td> <td>19    </td> <td>12    </td> <td>15    </td> <td>18    </td>\n",
       "        </tr>\n",
       "        <tr>\n",
       "            <td>Victor Valley     </td> <td>7      </td> <td>7      </td> <td>16     </td> <td>19     </td> <td>18    </td> <td>17    </td> <td>22    </td> <td>21    </td>\n",
       "        </tr>\n",
       "        <tr>\n",
       "            <td>Mt San Jacinto    </td> <td>19     </td> <td>12     </td> <td>8      </td> <td>12     </td> <td>11    </td> <td>19    </td> <td>17    </td> <td>11    </td>\n",
       "        </tr>\n",
       "        <tr>\n",
       "            <td>San Mateo         </td> <td>6      </td> <td>18     </td> <td>13     </td> <td>8      </td> <td>8     </td> <td>12    </td> <td>16    </td> <td>13    </td>\n",
       "        </tr>\n",
       "        <tr>\n",
       "            <td>Ohlone            </td> <td>18     </td> <td>19     </td> <td>13     </td> <td>20     </td> <td>12    </td> <td>8     </td> <td>11    </td> <td>10    </td>\n",
       "        </tr>\n",
       "        <tr>\n",
       "            <td>Bakersfield       </td> <td>20     </td> <td>15     </td> <td>18     </td> <td>13     </td> <td>6     </td> <td>12    </td> <td>17    </td> <td>21    </td>\n",
       "        </tr>\n",
       "        <tr>\n",
       "            <td>Santa Ana         </td> <td>18     </td> <td>16     </td> <td>16     </td> <td>17     </td> <td>4     </td> <td>15    </td> <td>12    </td> <td>19    </td>\n",
       "        </tr>\n",
       "        <tr>\n",
       "            <td>Riverside         </td> <td>6      </td> <td>12     </td> <td>18     </td> <td>26     </td> <td>16    </td> <td>18    </td> <td>18    </td> <td>22    </td>\n",
       "        </tr>\n",
       "        <tr>\n",
       "            <td>LA Valley         </td> <td>6      </td> <td>12     </td> <td>14     </td> <td>9      </td> <td>21    </td> <td>17    </td> <td>20    </td> <td>18    </td>\n",
       "        </tr>\n",
       "        <tr>\n",
       "            <td>Moorpark          </td> <td>14     </td> <td>11     </td> <td>10     </td> <td>24     </td> <td>14    </td> <td>14    </td> <td>12    </td> <td>20    </td>\n",
       "        </tr>\n",
       "        <tr>\n",
       "            <td>LA Pierce         </td> <td>15     </td> <td>19     </td> <td>35     </td> <td>19     </td> <td>13    </td> <td>13    </td> <td>14    </td> <td>7     </td>\n",
       "        </tr>\n",
       "        <tr>\n",
       "            <td>Ventura           </td> <td>9      </td> <td>8      </td> <td>8      </td> <td>16     </td> <td>17    </td> <td>16    </td> <td>14    </td> <td>8     </td>\n",
       "        </tr>\n",
       "        <tr>\n",
       "            <td>Alan Hancock      </td> <td>7      </td> <td>17     </td> <td>18     </td> <td>24     </td> <td>12    </td> <td>12    </td> <td>11    </td> <td>22    </td>\n",
       "        </tr>\n",
       "        <tr>\n",
       "            <td>Cuesta            </td> <td>9      </td> <td>21     </td> <td>23     </td> <td>15     </td> <td>8     </td> <td>24    </td> <td>16    </td> <td>7     </td>\n",
       "        </tr>\n",
       "        <tr>\n",
       "            <td>Oxnard            </td> <td>25     </td> <td>8      </td> <td>33     </td> <td>17     </td> <td>15    </td> <td>8     </td> <td>13    </td> <td>13    </td>\n",
       "        </tr>\n",
       "        <tr>\n",
       "            <td>Cuesta            </td> <td>21     </td> <td>16     </td> <td>19     </td> <td>18     </td> <td>6     </td> <td>12    </td> <td>15    </td> <td>19    </td>\n",
       "        </tr>\n",
       "        <tr>\n",
       "            <td>Moorpark          </td> <td>11     </td> <td>9      </td> <td>8      </td> <td>10     </td> <td>14    </td> <td>21    </td> <td>17    </td> <td>9     </td>\n",
       "        </tr>\n",
       "        <tr>\n",
       "            <td>LA Pierce         </td> <td>16     </td> <td>19     </td> <td>24     </td> <td>24     </td> <td>12    </td> <td>5     </td> <td>21    </td> <td>11    </td>\n",
       "        </tr>\n",
       "        <tr>\n",
       "            <td>Monterey Peninsula</td> <td>27     </td> <td>23     </td> <td>18     </td> <td>19     </td> <td>20    </td> <td>28    </td> <td>10    </td> <td>23    </td>\n",
       "        </tr>\n",
       "        <tr>\n",
       "            <td>Hartnell          </td> <td>13     </td> <td>17     </td> <td>11     </td> <td>16     </td> <td>20    </td> <td>12    </td> <td>25    </td> <td>15    </td>\n",
       "        </tr>\n",
       "        <tr>\n",
       "            <td>Ventura           </td> <td>8      </td> <td>5      </td> <td>18     </td> <td>12     </td> <td>15    </td> <td>13    </td> <td>23    </td> <td>10    </td>\n",
       "        </tr>\n",
       "        <tr>\n",
       "            <td>Alan Hancock      </td> <td>12     </td> <td>23     </td> <td>19     </td> <td>21     </td> <td>23    </td> <td>20    </td> <td>18    </td> <td>21    </td>\n",
       "        </tr>\n",
       "        <tr>\n",
       "            <td>Oxnard            </td> <td>15     </td> <td>23     </td> <td>14     </td> <td>16     </td> <td>5     </td> <td>6     </td> <td>21    </td> <td>20    </td>\n",
       "        </tr>\n",
       "        <tr>\n",
       "            <td>Mt San Jacinto    </td> <td>7      </td> <td>23     </td> <td>15     </td> <td>12     </td> <td>16    </td> <td>20    </td> <td>15    </td> <td>15    </td>\n",
       "        </tr>\n",
       "    </tbody>\n",
       "</table>"
      ],
      "text/plain": [
       "<IPython.core.display.HTML object>"
      ]
     },
     "metadata": {},
     "output_type": "display_data"
    }
   ],
   "source": [
    "# Just run this cell\n",
    "# Read in the cal_fb csv file\n",
    "games = Table().read_table(\"sbcc_bb.csv\")\n",
    "games.show()"
   ]
  },
  {
   "cell_type": "markdown",
   "metadata": {
    "deletable": false,
    "editable": false
   },
   "source": [
    "Let's start by finding the total points each team scored in a game.\n",
    "\n",
    "**Question 1.** Write a function called `game_totals`.  It should take four arguments, where each argument is the team's score for that quarter. It should return the team's total score for that game.\n",
    "\n",
    "\n",
    "<!--\n",
    "BEGIN QUESTION\n",
    "name: q1_1\n",
    "manual: false\n",
    "-->"
   ]
  },
  {
   "cell_type": "code",
   "execution_count": 27,
   "metadata": {},
   "outputs": [
    {
     "data": {
      "text/plain": [
       "24"
      ]
     },
     "execution_count": 27,
     "metadata": {},
     "output_type": "execute_result"
    }
   ],
   "source": [
    "def game_totals(q1, q2, q3, q4):\n",
    "    '''Returns the total score calculated by adding up the score of each quarter'''\n",
    "    return q1 + q2 + q3 + q4\n",
    "    \n",
    "\n",
    "game_totals(14, 7, 3, 0) #DO NOT CHANGE THIS LINE"
   ]
  },
  {
   "cell_type": "code",
   "execution_count": 28,
   "metadata": {
    "deletable": false,
    "editable": false
   },
   "outputs": [
    {
     "data": {
      "text/html": [
       "<p><strong><pre style='display: inline;'>q1_1</pre></strong> passed!</p>"
      ],
      "text/plain": [
       "q1_1 results: All test cases passed!"
      ]
     },
     "execution_count": 28,
     "metadata": {},
     "output_type": "execute_result"
    }
   ],
   "source": [
    "grader.check(\"q1_1\")"
   ]
  },
  {
   "cell_type": "markdown",
   "metadata": {
    "deletable": false,
    "editable": false
   },
   "source": [
    "**Question 2.** Create a new table `results` with three columns in this *specific* order: `Opponent Name`, `SBCC Score`, `Opponent Score`. You will have to create the `SBCC Score` and `Opponent Score` columns. Use the function `game_totals` you just defined in the previous question for this problem.\n",
    "\n",
    "*Hint:* If you want to apply a function that takes in multiple arguments, you can pass multiple column names as arguments in `tbl.apply()`. The column values will be passed into the corresponding arguments of the function. Take a look at the python reference for syntax.\n",
    "\n",
    "*Tip:* If you’re running into issues creating final_scores, check that `SBCC_scores` and `opponent_scores` output what you want. \n",
    "\n",
    "\n",
    "<!--\n",
    "BEGIN QUESTION\n",
    "name: q1_2\n",
    "manual: false\n",
    "-->"
   ]
  },
  {
   "cell_type": "code",
   "execution_count": 43,
   "metadata": {},
   "outputs": [
    {
     "data": {
      "text/html": [
       "<table border=\"1\" class=\"dataframe\">\n",
       "    <thead>\n",
       "        <tr>\n",
       "            <th>Opponent Name</th> <th>SBCC Score</th> <th>Opponent Score</th>\n",
       "        </tr>\n",
       "    </thead>\n",
       "    <tbody>\n",
       "        <tr>\n",
       "            <td>LA Harbor      </td> <td>56        </td> <td>44            </td>\n",
       "        </tr>\n",
       "        <tr>\n",
       "            <td>Santa Ana      </td> <td>61        </td> <td>49            </td>\n",
       "        </tr>\n",
       "        <tr>\n",
       "            <td>Riverside      </td> <td>57        </td> <td>76            </td>\n",
       "        </tr>\n",
       "        <tr>\n",
       "            <td>Bakersfield    </td> <td>67        </td> <td>49            </td>\n",
       "        </tr>\n",
       "        <tr>\n",
       "            <td>Solano         </td> <td>58        </td> <td>70            </td>\n",
       "        </tr>\n",
       "        <tr>\n",
       "            <td>Antelope Valley</td> <td>68        </td> <td>64            </td>\n",
       "        </tr>\n",
       "        <tr>\n",
       "            <td>Victor Valley  </td> <td>49        </td> <td>78            </td>\n",
       "        </tr>\n",
       "        <tr>\n",
       "            <td>Mt San Jacinto </td> <td>51        </td> <td>58            </td>\n",
       "        </tr>\n",
       "        <tr>\n",
       "            <td>San Mateo      </td> <td>45        </td> <td>49            </td>\n",
       "        </tr>\n",
       "        <tr>\n",
       "            <td>Ohlone         </td> <td>70        </td> <td>41            </td>\n",
       "        </tr>\n",
       "    </tbody>\n",
       "</table>\n",
       "<p>... (19 rows omitted)</p>"
      ],
      "text/plain": [
       "Opponent Name   | SBCC Score | Opponent Score\n",
       "LA Harbor       | 56         | 44\n",
       "Santa Ana       | 61         | 49\n",
       "Riverside       | 57         | 76\n",
       "Bakersfield     | 67         | 49\n",
       "Solano          | 58         | 70\n",
       "Antelope Valley | 68         | 64\n",
       "Victor Valley   | 49         | 78\n",
       "Mt San Jacinto  | 51         | 58\n",
       "San Mateo       | 45         | 49\n",
       "Ohlone          | 70         | 41\n",
       "... (19 rows omitted)"
      ]
     },
     "execution_count": 43,
     "metadata": {},
     "output_type": "execute_result"
    }
   ],
   "source": [
    "SBCC_scores = games.select(range(1,5)).apply(game_totals, 0, 1, 2, 3)\n",
    "opponent_scores = games.select(range(5,9)).apply(game_totals, 0, 1, 2, 3)\n",
    "results = Table().with_columns('Opponent Name', games.column(0),\n",
    "                              'SBCC Score', SBCC_scores,\n",
    "                              'Opponent Score', opponent_scores)\n",
    "results"
   ]
  },
  {
   "cell_type": "code",
   "execution_count": 44,
   "metadata": {
    "deletable": false,
    "editable": false
   },
   "outputs": [
    {
     "data": {
      "text/html": [
       "<p><strong><pre style='display: inline;'>q1_2</pre></strong> passed!</p>"
      ],
      "text/plain": [
       "q1_2 results: All test cases passed!"
      ]
     },
     "execution_count": 44,
     "metadata": {},
     "output_type": "execute_result"
    }
   ],
   "source": [
    "grader.check(\"q1_2\")"
   ]
  },
  {
   "cell_type": "markdown",
   "metadata": {},
   "source": [
    "We can get specific row objects from a table. You can use `tbl.row(n)` to get the `n`th row of a table. `row.item(\"column_name\")` will allow you to select the element that corresponds to `column_name` in a particular row. Here's an example:"
   ]
  },
  {
   "cell_type": "code",
   "execution_count": 45,
   "metadata": {
    "deletable": false,
    "editable": false
   },
   "outputs": [
    {
     "data": {
      "text/plain": [
       "Row(Opponent='Bakersfield', SBCC 1Q=20, SBCC 2Q=15, SBCC 3Q=18, SBCC 4Q=13, Opp 1Q=6, Opp 2Q=12, Opp 3Q=17, Opp 4Q=21)"
      ]
     },
     "execution_count": 45,
     "metadata": {},
     "output_type": "execute_result"
    }
   ],
   "source": [
    "# Just run this cell\n",
    "games.row(10)"
   ]
  },
  {
   "cell_type": "code",
   "execution_count": 46,
   "metadata": {
    "deletable": false,
    "editable": false
   },
   "outputs": [
    {
     "data": {
      "text/plain": [
       "13"
      ]
     },
     "execution_count": 46,
     "metadata": {},
     "output_type": "execute_result"
    }
   ],
   "source": [
    "# Just run this cell\n",
    "games.row(10).item(\"SBCC 4Q\")"
   ]
  },
  {
   "cell_type": "markdown",
   "metadata": {
    "deletable": false,
    "editable": false
   },
   "source": [
    "**Question 3.** We want to see for a particular game whether or not SBCC won. Write a function called `did_SBCC_win`.  It should take one argument: a row object from the `results` table. It should return either `True` if SBCC's score was greater than the Opponent's score, and `False` otherwise.\n",
    "\n",
    "\n",
    "<!--\n",
    "BEGIN QUESTION\n",
    "name: q1_3\n",
    "manual: false\n",
    "-->"
   ]
  },
  {
   "cell_type": "code",
   "execution_count": 51,
   "metadata": {},
   "outputs": [],
   "source": [
    "def did_SBCC_win(row):\n",
    "    if row[1] > row[2]:\n",
    "        return True\n",
    "    else:\n",
    "        return False"
   ]
  },
  {
   "cell_type": "code",
   "execution_count": 52,
   "metadata": {
    "deletable": false,
    "editable": false
   },
   "outputs": [
    {
     "data": {
      "text/html": [
       "<p><strong><pre style='display: inline;'>q1_3</pre></strong> passed!</p>"
      ],
      "text/plain": [
       "q1_3 results: All test cases passed!"
      ]
     },
     "execution_count": 52,
     "metadata": {},
     "output_type": "execute_result"
    }
   ],
   "source": [
    "grader.check(\"q1_3\")"
   ]
  },
  {
   "cell_type": "markdown",
   "metadata": {
    "deletable": false,
    "editable": false
   },
   "source": [
    "**Question 4.** Did SBCC win the majority of the games in the 22-23 season? Using the `results` table, assign `wins` to an array of `True` and `False` values that correspond to whether or not SBCC won. Add the `wins` array to the `results` table as a column called `Win?` and assign this to a new table called `results_with_wins`. Then, respectively assign the number of wins and losses SBCC had to `SBCC_wins` and `SBCC_losses`, but be sure that this is done completely in Python.\n",
    "\n",
    "*Hint*: When you only pass a function name and no column labels through `tbl.apply()`, the function gets applied to every row in `tbl`. \n",
    "\n",
    "\n",
    "<!--\n",
    "BEGIN QUESTION\n",
    "name: q1_4\n",
    "manual: false\n",
    "-->"
   ]
  },
  {
   "cell_type": "code",
   "execution_count": 59,
   "metadata": {},
   "outputs": [
    {
     "name": "stdout",
     "output_type": "stream",
     "text": [
      "In the 22-23 Season, the SBCC Women's Basketball team won 15 games and lost 14 games. Go Vaqueros!\n"
     ]
    }
   ],
   "source": [
    "wins = results.apply(did_SBCC_win)\n",
    "results_with_wins = results.with_column('Win?', wins)\n",
    "SBCC_wins = results_with_wins.column('Win?').sum()\n",
    "SBCC_losses = len(results_with_wins.column('Win?')) - SBCC_wins\n",
    "\n",
    "# Don't delete or edit the following line:\n",
    "print(f\"In the 22-23 Season, the SBCC Women's Basketball team won {SBCC_wins} games and lost {SBCC_losses} games. Go Vaqueros!\")"
   ]
  },
  {
   "cell_type": "code",
   "execution_count": 60,
   "metadata": {
    "deletable": false,
    "editable": false
   },
   "outputs": [
    {
     "data": {
      "text/html": [
       "<p><strong><pre style='display: inline;'>q1_4</pre></strong> passed!</p>"
      ],
      "text/plain": [
       "q1_4 results: All test cases passed!"
      ]
     },
     "execution_count": 60,
     "metadata": {},
     "output_type": "execute_result"
    }
   ],
   "source": [
    "grader.check(\"q1_4\")"
   ]
  },
  {
   "cell_type": "markdown",
   "metadata": {},
   "source": [
    "## Congratulations! You've reached the end of the required questions for Homework #5!"
   ]
  },
  {
   "cell_type": "markdown",
   "metadata": {},
   "source": [
    "Be sure to run all cells and the tests and verify that they all pass, then choose Download as PDF from the File menu and submit the .pdf file on canvas.\n",
    "Continue on to the optional section for some practice with iterations and for loops!"
   ]
  },
  {
   "cell_type": "markdown",
   "metadata": {},
   "source": [
    "## (Optional) Unrolling Loops"
   ]
  },
  {
   "cell_type": "markdown",
   "metadata": {},
   "source": [
    "**The rest of this homework is optional. Do it for your own practice, but it will not be incorporated into the final grading!**\n",
    "\n",
    "\"Unrolling\" a `for` loop means to manually write out all the code that it executes.  The result is code that does the same thing as the loop, but without the structure of the loop.  For example, for the following loop:\n",
    "\n",
    "    for num in np.arange(3):\n",
    "        print(\"The number is\", num)\n",
    "\n",
    "The unrolled version would look like this:\n",
    "\n",
    "    print(\"The number is\", 0)\n",
    "    print(\"The number is\", 1)\n",
    "    print(\"The number is\", 2)\n",
    "\n",
    "\n",
    "Unrolling a `for` loop is a great way to understand what the loop is doing during each step. In this exercise, you'll practice unrolling `for` loops.\n",
    "\n",
    "\n",
    "In each question below, write code that does the same thing as the given code, but with any `for` loops unrolled.  It's a good idea to run both your answer and the original code to verify that they do the same thing.  (Of course, if the code does something random, you'll get a different random outcome than the original code!)\n",
    "\n",
    "First, run the cell below to load data that will be used in a few questions.  It's a table with 52 rows, one for each type of card in a deck of playing cards.  A playing card has a \"suit\" (\"♠︎\", \"♣︎\", \"♥︎\", or \"♦︎\") and a \"rank\" (2 through 10, J, Q, K, or A).  There are 4 suits and 13 ranks, so there are $4 \\times 13 = 52$ different cards."
   ]
  },
  {
   "cell_type": "code",
   "execution_count": null,
   "metadata": {},
   "outputs": [],
   "source": [
    "deck = Table.read_table(\"deck.csv\")\n",
    "deck"
   ]
  },
  {
   "cell_type": "markdown",
   "metadata": {
    "deletable": false,
    "editable": false
   },
   "source": [
    "**Optional Question 1.** Unroll the code below.\n",
    "\n",
    "*Hint:* `np.random.randint` returns a random integer between 0 (inclusive) and the value that's passed in (exclusive).\n",
    "\n",
    "<!--\n",
    "BEGIN QUESTION\n",
    "name: q2_1\n",
    "manual: false\n",
    "-->"
   ]
  },
  {
   "cell_type": "code",
   "execution_count": null,
   "metadata": {},
   "outputs": [],
   "source": [
    "# This table will hold the cards in a randomly-drawn hand of\n",
    "# 5 cards.  We simulate cards being drawn as follows: We draw\n",
    "# a card at random from the deck, make a copy of it, put the\n",
    "# copy in our hand, and put the card back in the deck.  That\n",
    "# means we might draw the same card multiple times, which is\n",
    "# different from a normal draw in most card games.\n",
    "hand = Table().with_columns(\"Rank\", make_array(), \"Suit\", make_array())\n",
    "for suit in np.arange(5):\n",
    "    card = deck.row(np.random.randint(deck.num_rows))\n",
    "    hand = hand.with_row(card)\n",
    "hand"
   ]
  },
  {
   "cell_type": "code",
   "execution_count": null,
   "metadata": {
    "for_assignment_type": "solution"
   },
   "outputs": [],
   "source": [
    "hand = Table().with_columns(\"Rank\", make_array(), \"Suit\", make_array())\n",
    "..."
   ]
  },
  {
   "cell_type": "markdown",
   "metadata": {
    "deletable": false,
    "editable": false
   },
   "source": [
    "**Optional Question 2.** Unroll the code below.\n",
    "<!--\n",
    "BEGIN QUESTION\n",
    "name: q2_2\n",
    "manual: false\n",
    "-->"
   ]
  },
  {
   "cell_type": "code",
   "execution_count": null,
   "metadata": {},
   "outputs": [],
   "source": [
    "for joke_iteration in np.arange(4):\n",
    "    print(\"Knock, knock.\")\n",
    "    print(\"Who's there?\")\n",
    "    print(\"Banana.\")\n",
    "    print(\"Banana who?\")\n",
    "print(\"Knock, knock.\")\n",
    "print(\"Who's there?\")\n",
    "print(\"Orange.\")\n",
    "print(\"Orange who?\")\n",
    "print(\"Orange you glad I didn't say banana?\")"
   ]
  },
  {
   "cell_type": "code",
   "execution_count": null,
   "metadata": {
    "for_assignment_type": "solution"
   },
   "outputs": [],
   "source": [
    "..."
   ]
  },
  {
   "cell_type": "markdown",
   "metadata": {
    "deletable": false,
    "editable": false
   },
   "source": [
    "**Optional Question 3.** Unroll the code below.\n",
    "<!--\n",
    "BEGIN QUESTION\n",
    "name: q2_3\n",
    "manual: false\n",
    "-->"
   ]
  },
  {
   "cell_type": "code",
   "execution_count": null,
   "metadata": {},
   "outputs": [],
   "source": [
    "# This table will hold the cards in a randomly-drawn hand of\n",
    "# 4 cards.  The cards are drawn as follows: For each of the\n",
    "# 4 suits, we draw a random card of that suit and put it into\n",
    "# our hand.  The cards within a suit are drawn uniformly at\n",
    "# random, meaning each card of the suit has an equal chance of\n",
    "# being drawn.\n",
    "hand_of_4 = Table().with_columns(\"Rank\", make_array(), \"Suit\", make_array())\n",
    "for suit in make_array(\"♠︎\", \"♣︎\", \"♥︎\", \"♦︎\"):\n",
    "    cards_of_suit = deck.where(\"Suit\", are.equal_to(suit))\n",
    "    card = cards_of_suit.row(np.random.randint(cards_of_suit.num_rows))\n",
    "    hand_of_4 = hand_of_4.with_row(card)\n",
    "hand_of_4"
   ]
  },
  {
   "cell_type": "code",
   "execution_count": null,
   "metadata": {
    "for_assignment_type": "solution"
   },
   "outputs": [],
   "source": [
    "hand_of_4 = Table().with_columns(\"Rank\", make_array(), \"Suit\", make_array())\n",
    "..."
   ]
  }
 ],
 "metadata": {
  "kernelspec": {
   "display_name": "Python 3 (ipykernel)",
   "language": "python",
   "name": "python3"
  },
  "language_info": {
   "codemirror_mode": {
    "name": "ipython",
    "version": 3
   },
   "file_extension": ".py",
   "mimetype": "text/x-python",
   "name": "python",
   "nbconvert_exporter": "python",
   "pygments_lexer": "ipython3",
   "version": "3.7.8"
  }
 },
 "nbformat": 4,
 "nbformat_minor": 1
}
